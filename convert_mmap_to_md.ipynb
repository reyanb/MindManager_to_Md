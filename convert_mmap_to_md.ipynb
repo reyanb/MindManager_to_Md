{
 "cells": [
  {
   "cell_type": "code",
   "execution_count": 1,
   "metadata": {},
   "outputs": [],
   "source": [
    "import numpy"
   ]
  },
  {
   "cell_type": "code",
   "execution_count": 6,
   "metadata": {},
   "outputs": [],
   "source": [
    "import zipfile\n",
    "import xml.etree.ElementTree as ET\n",
    "\n",
    "file_path = \"reyan_test.mmap\"  # or .xmmap\n",
    "\n",
    "with zipfile.ZipFile(file_path, 'r') as z:\n",
    "    if \"Document.xml\" in z.namelist():\n",
    "        with z.open(\"Document.xml\") as f:\n",
    "            tree = ET.parse(f)\n",
    "            root = tree.getroot()\n",
    "            for topic in root.findall(\".//Topic\"):\n",
    "                text_el = topic.find(\"Text/PlainText\")\n",
    "                if text_el is not None and text_el.text:\n",
    "                    print(text_el.text.strip())\n",
    "                    \n",
    "def get_topic_text(topic):\n",
    "    # Try PlainText first\n",
    "    pt = topic.find(\"Text/PlainText\")\n",
    "    if pt is not None and pt.text:\n",
    "        return pt.text.strip()\n",
    "    # Try RichText (Mac)\n",
    "    rt = topic.find(\"Text/RichText/Paragraph/Text\")\n",
    "    if rt is not None and rt.text:\n",
    "        return rt.text.strip()\n",
    "    return None\n",
    "\n",
    "text = get_topic_text(topic)\n",
    "if not text:\n",
    "    continue\n",
    "md_lines.append(\"#\" * level + \" \" + text)\n",
    "\n",
    "\n"
   ]
  },
  {
   "cell_type": "code",
   "execution_count": 2,
   "metadata": {},
   "outputs": [],
   "source": [
    "def parse_outline(file_path):\n",
    "    with open(file_path, \"r\") as f:\n",
    "        lines = [line.rstrip() for line in f if line.strip()]\n",
    "\n",
    "    md_lines = []\n",
    "    mm_lines = [\"```mermaid\", \"mindmap\", \"  root((MindMap))\"]\n",
    "\n",
    "    for line in lines:\n",
    "        indent = len(line) - len(line.lstrip())\n",
    "        level = indent // 4 + 1   # adjust depending on export spacing\n",
    "        text = line.strip()\n",
    "\n",
    "        # Markdown heading\n",
    "        md_lines.append(\"#\" * level + \" \" + text)\n",
    "\n",
    "        # Mermaid\n",
    "        mm_lines.append(\"  \" * (level + 1) + text)\n",
    "\n",
    "    mm_lines.append(\"```\")\n",
    "    return md_lines, mm_lines\n",
    "\n",
    "md, mm = parse_outline(\"reyan_test.txt\")\n",
    "\n",
    "with open(\"reyan_test.md\", \"w\") as f:\n",
    "    f.write(\"\\n\".join(md))\n",
    "\n",
    "with open(\"reyan_test.mmd\", \"w\") as f:\n",
    "    f.write(\"\\n\".join(mm))\n"
   ]
  }
 ],
 "metadata": {
  "kernelspec": {
   "display_name": "Python 3.13.0 64-bit ('reyan_finaxy')",
   "language": "python",
   "name": "python3"
  },
  "language_info": {
   "codemirror_mode": {
    "name": "ipython",
    "version": 3
   },
   "file_extension": ".py",
   "mimetype": "text/x-python",
   "name": "python",
   "nbconvert_exporter": "python",
   "pygments_lexer": "ipython3",
   "version": "3.13.0"
  },
  "orig_nbformat": 4,
  "vscode": {
   "interpreter": {
    "hash": "d7c43b463440007e400f5ec98f79f180547e6cabff191642b25042810c5e85ed"
   }
  }
 },
 "nbformat": 4,
 "nbformat_minor": 2
}
